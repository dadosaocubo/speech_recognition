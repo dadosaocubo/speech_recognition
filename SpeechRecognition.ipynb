{
  "nbformat": 4,
  "nbformat_minor": 0,
  "metadata": {
    "colab": {
      "name": "SpeechRecognition.ipynb",
      "provenance": []
    },
    "kernelspec": {
      "name": "python3",
      "display_name": "Python 3"
    },
    "language_info": {
      "name": "python"
    }
  },
  "cells": [
    {
      "cell_type": "markdown",
      "metadata": {
        "id": "ZXQBAa8HseC1"
      },
      "source": [
        "# Reconhecimento de voz com SpeechRecognition"
      ]
    },
    {
      "cell_type": "markdown",
      "metadata": {
        "id": "WQwOiQTAsR-8"
      },
      "source": [
        "Música"
      ]
    },
    {
      "cell_type": "code",
      "metadata": {
        "colab": {
          "base_uri": "https://localhost:8080/"
        },
        "id": "uKdPOmgp0-ob",
        "outputId": "9d7078b4-5fc2-41b9-ea96-c9f4d18d75a1"
      },
      "source": [
        "!pip install SpeechRecognition"
      ],
      "execution_count": 35,
      "outputs": [
        {
          "output_type": "stream",
          "text": [
            "Requirement already satisfied: SpeechRecognition in /usr/local/lib/python3.7/dist-packages (3.8.1)\n"
          ],
          "name": "stdout"
        }
      ]
    },
    {
      "cell_type": "code",
      "metadata": {
        "id": "Cj4W4jNc2oq-"
      },
      "source": [
        "#!apt install libasound2-dev portaudio19-dev libportaudio2 libportaudiocpp0 ffmpeg"
      ],
      "execution_count": 36,
      "outputs": []
    },
    {
      "cell_type": "code",
      "metadata": {
        "id": "gTS_8i7G1acy"
      },
      "source": [
        "#!pip install pyaudio"
      ],
      "execution_count": 37,
      "outputs": []
    },
    {
      "cell_type": "code",
      "metadata": {
        "id": "n13suflB32jj"
      },
      "source": [
        "#!pip install ffmpeg-python"
      ],
      "execution_count": 38,
      "outputs": []
    },
    {
      "cell_type": "code",
      "metadata": {
        "colab": {
          "base_uri": "https://localhost:8080/"
        },
        "id": "2jKB4lgpjdVx",
        "outputId": "d690ed5a-eae0-4deb-d037-a07a6f52bcac"
      },
      "source": [
        "!pip install pydub"
      ],
      "execution_count": 39,
      "outputs": [
        {
          "output_type": "stream",
          "text": [
            "Requirement already satisfied: pydub in /usr/local/lib/python3.7/dist-packages (0.25.1)\n"
          ],
          "name": "stdout"
        }
      ]
    },
    {
      "cell_type": "code",
      "metadata": {
        "id": "QDXGz6QD0tsT"
      },
      "source": [
        "import speech_recognition as sr\n",
        "#import pyaudio\n",
        "from pydub import AudioSegment\n",
        "from pydub.utils import make_chunks"
      ],
      "execution_count": 40,
      "outputs": []
    },
    {
      "cell_type": "code",
      "metadata": {
        "colab": {
          "base_uri": "https://localhost:8080/"
        },
        "id": "OI-W7FfDjWQR",
        "outputId": "0bcd9e75-0a7b-4935-db6d-361d355b6b7c"
      },
      "source": [
        "# arquivos                                                                         \n",
        "audio_mp3 = \"Vicios_e_Virtudes.mp3\"\n",
        "audio_wav = \"Vicios_e_Virtudes.wav\"\n",
        "\n",
        "# conversão de mp3 para wav                                                           \n",
        "sound = AudioSegment.from_mp3(audio_mp3)\n",
        "sound.export(audio_wav, format=\"wav\")"
      ],
      "execution_count": 41,
      "outputs": [
        {
          "output_type": "execute_result",
          "data": {
            "text/plain": [
              "<_io.BufferedRandom name='Vicios_e_Virtudes.wav'>"
            ]
          },
          "metadata": {
            "tags": []
          },
          "execution_count": 41
        }
      ]
    },
    {
      "cell_type": "code",
      "metadata": {
        "colab": {
          "base_uri": "https://localhost:8080/"
        },
        "id": "C6CxlXBqq6wL",
        "outputId": "0184f3e4-7761-4043-fecf-bf9a736c05cb"
      },
      "source": [
        "# divisão do audio em partes\n",
        "audio = AudioSegment.from_file(audio_wav, \"wav\")\n",
        "# Tamanho em milisegundos\n",
        "tamanho = 30000\n",
        "\n",
        "partes = make_chunks (audio, tamanho) \n",
        "partes_audio =[]\n",
        "for i, parte in enumerate(partes):\n",
        "    # Enumerando arquivo particionado\n",
        "    parte_name = \"Vicios{0}.wav\".format(i)\n",
        "    partes_audio.append(parte_name)\n",
        "    #print(parte_name)\n",
        "    # Exportando arquivos\n",
        "    parte.export(parte_name, format=\"wav\")\n",
        "partes_audio"
      ],
      "execution_count": 42,
      "outputs": [
        {
          "output_type": "execute_result",
          "data": {
            "text/plain": [
              "['Vicios0.wav',\n",
              " 'Vicios1.wav',\n",
              " 'Vicios2.wav',\n",
              " 'Vicios3.wav',\n",
              " 'Vicios4.wav',\n",
              " 'Vicios5.wav']"
            ]
          },
          "metadata": {
            "tags": []
          },
          "execution_count": 42
        }
      ]
    },
    {
      "cell_type": "code",
      "metadata": {
        "id": "_72eB2EK6O7W"
      },
      "source": [
        "def transcreve_audio(nome_audio):\n",
        "  # Selecione o audio para reconhecimento\n",
        "  r = sr.Recognizer()\n",
        "  with sr.AudioFile(nome_audio) as source:\n",
        "    audio = r.record(source)  # read the entire audio file\n",
        "\n",
        "  # Reconhecimento usando o Google Speech Recognition\n",
        "  try:\n",
        "    print(\"Google Speech Recognition: \" + r.recognize_google(audio,language='pt-BR'))\n",
        "    texto = r.recognize_google(audio,language='pt-BR')\n",
        "  except sr.UnknownValueError:\n",
        "    print(\"Google Speech Recognition NÃO ENTENDEU o audio\")\n",
        "    texto = ''\n",
        "  except sr.RequestError as e:\n",
        "    print(\"Não foi possível solicitar resultados do serviço Google Speech Recognition; {0}\".format(e))\n",
        "    texto = ''\n",
        "  return texto"
      ],
      "execution_count": 43,
      "outputs": []
    },
    {
      "cell_type": "code",
      "metadata": {
        "colab": {
          "base_uri": "https://localhost:8080/"
        },
        "id": "C-6s6LSwknZ6",
        "outputId": "a2cbab10-2492-42f4-d1ac-afd3405e00aa"
      },
      "source": [
        "texto = ''\n",
        "for parte in partes_audio:\n",
        "  texto = texto + ' ' + transcreve_audio(parte)"
      ],
      "execution_count": 44,
      "outputs": [
        {
          "output_type": "stream",
          "text": [
            "Google Speech Recognition: vídeo de sexo de ninguém ajuda de ninguém às vezes faço o que quero e às vezes faço o que tenho que fazer as vezes que vieram e às vezes faço o que tenho que fazer eu nunca tive muito a ver com ela o livro que ela ama eu não li eu nunca tive muito\n",
            "Google Speech Recognition: é a um filme que ela adora eu não vi Como chegar nela eu nem sei ela é tão interessante e eu aqui pichando muro Como chegar ao na espera tão diferente ou igual a todo mundo logo eu que sempre achei legal ser tão errado eu que nem sempre calmo mas nunca preocupado\n",
            "Google Speech Recognition: Fique calmo mas nunca preocupado de ninguém de ninguém o que quero e às vezes faço o que tenho que fazer\n",
            "Google Speech Recognition: e às vezes faço o que tenho que fazer hoje eu volto pra fazer só a sua vontade mais Se eu não puder fazer você a pessoa mais feliz eu chego mais perto disso possível todos os incovenientes a nosso favor e diferença se mais\n",
            "Google Speech Recognition: sempre calmo mas nunca preocupado logo eu que sempre achei legal ser tão errado eu que nem sempre calmo mas nunca preocupado\n",
            "Google Speech Recognition: a nossa vontade mais só que é bom dura tempo bastante para se tornar o defeito da palavra tua boca me cala nós dois deitados\n"
          ],
          "name": "stdout"
        }
      ]
    },
    {
      "cell_type": "code",
      "metadata": {
        "colab": {
          "base_uri": "https://localhost:8080/",
          "height": 120
        },
        "id": "E_t58SqqnWJS",
        "outputId": "2c66f9e3-4c29-40de-bb3e-e416ff88f20c"
      },
      "source": [
        "texto"
      ],
      "execution_count": 45,
      "outputs": [
        {
          "output_type": "execute_result",
          "data": {
            "application/vnd.google.colaboratory.intrinsic+json": {
              "type": "string"
            },
            "text/plain": [
              "' vídeo de sexo de ninguém ajuda de ninguém às vezes faço o que quero e às vezes faço o que tenho que fazer as vezes que vieram e às vezes faço o que tenho que fazer eu nunca tive muito a ver com ela o livro que ela ama eu não li eu nunca tive muito é a um filme que ela adora eu não vi Como chegar nela eu nem sei ela é tão interessante e eu aqui pichando muro Como chegar ao na espera tão diferente ou igual a todo mundo logo eu que sempre achei legal ser tão errado eu que nem sempre calmo mas nunca preocupado Fique calmo mas nunca preocupado de ninguém de ninguém o que quero e às vezes faço o que tenho que fazer e às vezes faço o que tenho que fazer hoje eu volto pra fazer só a sua vontade mais Se eu não puder fazer você a pessoa mais feliz eu chego mais perto disso possível todos os incovenientes a nosso favor e diferença se mais sempre calmo mas nunca preocupado logo eu que sempre achei legal ser tão errado eu que nem sempre calmo mas nunca preocupado a nossa vontade mais só que é bom dura tempo bastante para se tornar o defeito da palavra tua boca me cala nós dois deitados'"
            ]
          },
          "metadata": {
            "tags": []
          },
          "execution_count": 45
        }
      ]
    }
  ]
}